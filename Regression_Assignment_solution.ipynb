{
  "cells": [
    {
      "cell_type": "markdown",
      "metadata": {
        "id": "view-in-github",
        "colab_type": "text"
      },
      "source": [
        "<a href=\"https://colab.research.google.com/github/Tushar-rancy/Regression-assignment/blob/main/Regression_Assignment_solution.ipynb\" target=\"_parent\"><img src=\"https://colab.research.google.com/assets/colab-badge.svg\" alt=\"Open In Colab\"/></a>"
      ]
    },
    {
      "cell_type": "markdown",
      "id": "290481c2",
      "metadata": {
        "id": "290481c2"
      },
      "source": [
        "# Regression Assignment – Questions and Answers"
      ]
    },
    {
      "cell_type": "markdown",
      "id": "34533e9f",
      "metadata": {
        "id": "34533e9f"
      },
      "source": []
    },
    {
      "cell_type": "markdown",
      "id": "731abfff",
      "metadata": {
        "id": "731abfff"
      },
      "source": [
        "### 1. What is Simple Linear Regression"
      ]
    },
    {
      "cell_type": "markdown",
      "id": "e714cf68",
      "metadata": {
        "id": "e714cf68"
      },
      "source": [
        "**Answer:**\n",
        "Simple Linear Regression is a method to predict a dependent variable (Y) based on one independent variable (X), using a linear relationship."
      ]
    },
    {
      "cell_type": "markdown",
      "id": "177d565b",
      "metadata": {
        "id": "177d565b"
      },
      "source": [
        "### 2. What are the key assumptions of Simple Linear Regression"
      ]
    },
    {
      "cell_type": "markdown",
      "id": "ba2008b6",
      "metadata": {
        "id": "ba2008b6"
      },
      "source": [
        "**Answer:**\n",
        "- Linearity\n",
        "- Independence\n",
        "- Homoscedasticity\n",
        "- Normal distribution of errors"
      ]
    },
    {
      "cell_type": "markdown",
      "id": "2b204ec8",
      "metadata": {
        "id": "2b204ec8"
      },
      "source": [
        "### 3. What does the coefficient m represent in the equation Y=mX+c"
      ]
    },
    {
      "cell_type": "markdown",
      "id": "8668cc6e",
      "metadata": {
        "id": "8668cc6e"
      },
      "source": [
        "**Answer:**\n",
        "It represents the slope — the rate at which Y changes for a unit change in X."
      ]
    },
    {
      "cell_type": "markdown",
      "id": "f9911a49",
      "metadata": {
        "id": "f9911a49"
      },
      "source": [
        "### 4. What does the intercept c represent in the equation Y=mX+c"
      ]
    },
    {
      "cell_type": "markdown",
      "id": "535bf39a",
      "metadata": {
        "id": "535bf39a"
      },
      "source": [
        "**Answer:**\n",
        "The value of Y when X = 0."
      ]
    },
    {
      "cell_type": "markdown",
      "id": "c78ff936",
      "metadata": {
        "id": "c78ff936"
      },
      "source": [
        "### 5. How do we calculate the slope m in Simple Linear Regression"
      ]
    },
    {
      "cell_type": "code",
      "execution_count": null,
      "id": "8867f235",
      "metadata": {
        "id": "8867f235"
      },
      "outputs": [],
      "source": [
        "\n",
        "m = np.cov(x, y)[0,1] / np.var(x)\n"
      ]
    },
    {
      "cell_type": "markdown",
      "id": "68c44623",
      "metadata": {
        "id": "68c44623"
      },
      "source": [
        "### 6. What is the purpose of the least squares method in Simple Linear Regression"
      ]
    },
    {
      "cell_type": "markdown",
      "id": "adffc6f3",
      "metadata": {
        "id": "adffc6f3"
      },
      "source": [
        "**Answer:**\n",
        "To minimize the sum of the squared differences between actual and predicted values."
      ]
    },
    {
      "cell_type": "markdown",
      "id": "707d0985",
      "metadata": {
        "id": "707d0985"
      },
      "source": [
        "### 7. How is the coefficient of determination (R²) interpreted in Simple Linear Regression"
      ]
    },
    {
      "cell_type": "markdown",
      "id": "2239a01d",
      "metadata": {
        "id": "2239a01d"
      },
      "source": [
        "**Answer:**\n",
        "It shows the proportion of variance in Y explained by X. R² = 1 means perfect fit."
      ]
    },
    {
      "cell_type": "markdown",
      "id": "b0dabf94",
      "metadata": {
        "id": "b0dabf94"
      },
      "source": [
        "### 8. What is Multiple Linear Regression"
      ]
    },
    {
      "cell_type": "markdown",
      "id": "68e7b5b1",
      "metadata": {
        "id": "68e7b5b1"
      },
      "source": [
        "**Answer:**\n",
        "A regression with two or more independent variables used to predict a dependent variable."
      ]
    },
    {
      "cell_type": "markdown",
      "id": "9e096ce6",
      "metadata": {
        "id": "9e096ce6"
      },
      "source": [
        "### 9. What is the main difference between Simple and Multiple Linear Regression"
      ]
    },
    {
      "cell_type": "markdown",
      "id": "c3a46f68",
      "metadata": {
        "id": "c3a46f68"
      },
      "source": [
        "**Answer:**\n",
        "Simple uses one independent variable; Multiple uses more than one."
      ]
    },
    {
      "cell_type": "markdown",
      "id": "766ba5c9",
      "metadata": {
        "id": "766ba5c9"
      },
      "source": [
        "### 10. What are the key assumptions of Multiple Linear Regression"
      ]
    },
    {
      "cell_type": "markdown",
      "id": "e68a575c",
      "metadata": {
        "id": "e68a575c"
      },
      "source": [
        "**Answer:**\n",
        "- Linearity\n",
        "- No multicollinearity\n",
        "- Homoscedasticity\n",
        "- Normality of residuals"
      ]
    },
    {
      "cell_type": "markdown",
      "id": "f465a0f2",
      "metadata": {
        "id": "f465a0f2"
      },
      "source": [
        "### 11. What is heteroscedasticity, and how does it affect the results of a Multiple Linear Regression model"
      ]
    },
    {
      "cell_type": "markdown",
      "id": "f69197a2",
      "metadata": {
        "id": "f69197a2"
      },
      "source": [
        "**Answer:**\n",
        "Heteroscedasticity refers to non-constant variance of errors, which can lead to inefficient and biased estimates."
      ]
    },
    {
      "cell_type": "markdown",
      "id": "51754006",
      "metadata": {
        "id": "51754006"
      },
      "source": [
        "### 12. How can you improve a Multiple Linear Regression model with high multicollinearity"
      ]
    },
    {
      "cell_type": "markdown",
      "id": "87ba1fb6",
      "metadata": {
        "id": "87ba1fb6"
      },
      "source": [
        "**Answer:**\n",
        "Use techniques like VIF analysis, dropping variables, or PCA."
      ]
    },
    {
      "cell_type": "markdown",
      "id": "98a51e4c",
      "metadata": {
        "id": "98a51e4c"
      },
      "source": [
        "### 13. What are some common techniques for transforming categorical variables for use in regression models"
      ]
    },
    {
      "cell_type": "markdown",
      "id": "b03ca76e",
      "metadata": {
        "id": "b03ca76e"
      },
      "source": [
        "**Answer:**\n",
        "Label Encoding, One-Hot Encoding, and Ordinal Encoding."
      ]
    },
    {
      "cell_type": "markdown",
      "id": "1a124c8f",
      "metadata": {
        "id": "1a124c8f"
      },
      "source": [
        "### 14. What is the role of interaction terms in Multiple Linear Regression"
      ]
    },
    {
      "cell_type": "markdown",
      "id": "6d2e893a",
      "metadata": {
        "id": "6d2e893a"
      },
      "source": [
        "**Answer:**\n",
        "They model the combined effect of two or more variables on the response."
      ]
    },
    {
      "cell_type": "markdown",
      "id": "343d2b09",
      "metadata": {
        "id": "343d2b09"
      },
      "source": [
        "### 15. How can the interpretation of intercept differ between Simple and Multiple Linear Regression"
      ]
    },
    {
      "cell_type": "markdown",
      "id": "d3ce2427",
      "metadata": {
        "id": "d3ce2427"
      },
      "source": [
        "**Answer:**\n",
        "In multiple regression, the intercept represents the expected value of Y when all predictors are 0."
      ]
    },
    {
      "cell_type": "markdown",
      "id": "8f24e8bd",
      "metadata": {
        "id": "8f24e8bd"
      },
      "source": [
        "### 16. What is the significance of the slope in regression analysis, and how does it affect predictions"
      ]
    },
    {
      "cell_type": "markdown",
      "id": "e84083d1",
      "metadata": {
        "id": "e84083d1"
      },
      "source": [
        "**Answer:**\n",
        "The slope shows how much Y changes per unit increase in the predictor."
      ]
    },
    {
      "cell_type": "markdown",
      "id": "e4c66dd7",
      "metadata": {
        "id": "e4c66dd7"
      },
      "source": [
        "### 17. How does the intercept in a regression model provide context for the relationship between variables"
      ]
    },
    {
      "cell_type": "markdown",
      "id": "20b5da45",
      "metadata": {
        "id": "20b5da45"
      },
      "source": [
        "**Answer:**\n",
        "It provides a baseline level of the response variable when all predictors are 0."
      ]
    },
    {
      "cell_type": "markdown",
      "id": "17385fe5",
      "metadata": {
        "id": "17385fe5"
      },
      "source": [
        "### 18. What are the limitations of using R² as a sole measure of model performance"
      ]
    },
    {
      "cell_type": "markdown",
      "id": "71a0cb41",
      "metadata": {
        "id": "71a0cb41"
      },
      "source": [
        "**Answer:**\n",
        "R² doesn’t indicate if a regression model is appropriate or if it’s overfitting."
      ]
    },
    {
      "cell_type": "markdown",
      "id": "83fa58bc",
      "metadata": {
        "id": "83fa58bc"
      },
      "source": [
        "### 19. How would you interpret a large standard error for a regression coefficient"
      ]
    },
    {
      "cell_type": "markdown",
      "id": "fc75cb9d",
      "metadata": {
        "id": "fc75cb9d"
      },
      "source": [
        "**Answer:**\n",
        "It implies the estimate is less reliable."
      ]
    },
    {
      "cell_type": "markdown",
      "id": "8976f361",
      "metadata": {
        "id": "8976f361"
      },
      "source": [
        "### 20. How can heteroscedasticity be identified in residual plots, and why is it important to address it"
      ]
    },
    {
      "cell_type": "markdown",
      "id": "fd8cb807",
      "metadata": {
        "id": "fd8cb807"
      },
      "source": [
        "**Answer:**\n",
        "Identified when residuals show a funnel shape. It affects the reliability of coefficient estimates."
      ]
    },
    {
      "cell_type": "markdown",
      "id": "eeeeb679",
      "metadata": {
        "id": "eeeeb679"
      },
      "source": [
        "### 21. What does it mean if a Multiple Linear Regression model has a high R² but low adjusted R²"
      ]
    },
    {
      "cell_type": "markdown",
      "id": "ee12853e",
      "metadata": {
        "id": "ee12853e"
      },
      "source": [
        "**Answer:**\n",
        "It suggests the model has irrelevant variables. Adjusted R² penalizes adding unnecessary predictors."
      ]
    },
    {
      "cell_type": "markdown",
      "id": "f0875d5d",
      "metadata": {
        "id": "f0875d5d"
      },
      "source": [
        "### 22. Why is it important to scale variables in Multiple Linear Regression"
      ]
    },
    {
      "cell_type": "markdown",
      "id": "7997701c",
      "metadata": {
        "id": "7997701c"
      },
      "source": [
        "**Answer:**\n",
        "To ensure coefficients are on a comparable scale and improve convergence."
      ]
    },
    {
      "cell_type": "markdown",
      "id": "e1999c37",
      "metadata": {
        "id": "e1999c37"
      },
      "source": [
        "### 23. What is polynomial regression"
      ]
    },
    {
      "cell_type": "markdown",
      "id": "fbcced11",
      "metadata": {
        "id": "fbcced11"
      },
      "source": [
        "**Answer:**\n",
        "A regression technique that fits a nonlinear relationship between X and Y using polynomial terms."
      ]
    },
    {
      "cell_type": "markdown",
      "id": "e141ed7a",
      "metadata": {
        "id": "e141ed7a"
      },
      "source": [
        "### 24. How does polynomial regression differ from linear regression"
      ]
    },
    {
      "cell_type": "markdown",
      "id": "3cc41d7e",
      "metadata": {
        "id": "3cc41d7e"
      },
      "source": [
        "**Answer:**\n",
        "It includes higher-degree terms of X (e.g., X², X³), making it nonlinear in the variables."
      ]
    },
    {
      "cell_type": "markdown",
      "id": "bad21763",
      "metadata": {
        "id": "bad21763"
      },
      "source": [
        "### 25. When is polynomial regression used"
      ]
    },
    {
      "cell_type": "markdown",
      "id": "71214950",
      "metadata": {
        "id": "71214950"
      },
      "source": [
        "**Answer:**\n",
        "When data shows a curvilinear trend that linear regression can’t capture."
      ]
    },
    {
      "cell_type": "markdown",
      "id": "826d619c",
      "metadata": {
        "id": "826d619c"
      },
      "source": [
        "### 26. What is the general equation for polynomial regression"
      ]
    },
    {
      "cell_type": "markdown",
      "id": "ec37ad60",
      "metadata": {
        "id": "ec37ad60"
      },
      "source": [
        "**Answer:**\n",
        "Y = b0 + b1*X + b2*X² + ... + bn*X^n"
      ]
    },
    {
      "cell_type": "markdown",
      "id": "e0cc832f",
      "metadata": {
        "id": "e0cc832f"
      },
      "source": [
        "### 27. Can polynomial regression be applied to multiple variables"
      ]
    },
    {
      "cell_type": "markdown",
      "id": "2c1718fe",
      "metadata": {
        "id": "2c1718fe"
      },
      "source": [
        "**Answer:**\n",
        "Yes, it can include polynomial terms of each variable and their interactions."
      ]
    },
    {
      "cell_type": "markdown",
      "id": "10e953b7",
      "metadata": {
        "id": "10e953b7"
      },
      "source": [
        "### 28. What are the limitations of polynomial regression"
      ]
    },
    {
      "cell_type": "markdown",
      "id": "3c9d8dbd",
      "metadata": {
        "id": "3c9d8dbd"
      },
      "source": [
        "**Answer:**\n",
        "- Overfitting\n",
        "- Multicollinearity\n",
        "- Poor extrapolation outside the data range"
      ]
    },
    {
      "cell_type": "markdown",
      "id": "5c00a574",
      "metadata": {
        "id": "5c00a574"
      },
      "source": [
        "### 29. What methods can be used to evaluate model fit when selecting the degree of a polynomial"
      ]
    },
    {
      "cell_type": "markdown",
      "id": "8c9d310e",
      "metadata": {
        "id": "8c9d310e"
      },
      "source": [
        "**Answer:**\n",
        "Use cross-validation, adjusted R², AIC/BIC, or visualization of residuals."
      ]
    },
    {
      "cell_type": "markdown",
      "id": "2a9e18a3",
      "metadata": {
        "id": "2a9e18a3"
      },
      "source": [
        "### 30. Why is visualization important in polynomial regression"
      ]
    },
    {
      "cell_type": "markdown",
      "id": "5c16440f",
      "metadata": {
        "id": "5c16440f"
      },
      "source": [
        "**Answer:**\n",
        "To understand fit quality, detect overfitting, and compare model complexity visually."
      ]
    },
    {
      "cell_type": "markdown",
      "id": "d4ab52b0",
      "metadata": {
        "id": "d4ab52b0"
      },
      "source": [
        "### 31. How is polynomial regression implemented in Python?"
      ]
    },
    {
      "cell_type": "code",
      "execution_count": 2,
      "id": "e32749aa",
      "metadata": {
        "colab": {
          "base_uri": "https://localhost:8080/",
          "height": 199
        },
        "id": "e32749aa",
        "outputId": "04363533-99f7-4b67-e4cf-8953a402ab60"
      },
      "outputs": [
        {
          "output_type": "error",
          "ename": "NameError",
          "evalue": "name 'X' is not defined",
          "traceback": [
            "\u001b[0;31m---------------------------------------------------------------------------\u001b[0m",
            "\u001b[0;31mNameError\u001b[0m                                 Traceback (most recent call last)",
            "\u001b[0;32m<ipython-input-2-ee6850292615>\u001b[0m in \u001b[0;36m<cell line: 0>\u001b[0;34m()\u001b[0m\n\u001b[1;32m      3\u001b[0m \u001b[0;34m\u001b[0m\u001b[0m\n\u001b[1;32m      4\u001b[0m \u001b[0mpoly\u001b[0m \u001b[0;34m=\u001b[0m \u001b[0mPolynomialFeatures\u001b[0m\u001b[0;34m(\u001b[0m\u001b[0mdegree\u001b[0m\u001b[0;34m=\u001b[0m\u001b[0;36m2\u001b[0m\u001b[0;34m)\u001b[0m\u001b[0;34m\u001b[0m\u001b[0;34m\u001b[0m\u001b[0m\n\u001b[0;32m----> 5\u001b[0;31m \u001b[0mX_poly\u001b[0m \u001b[0;34m=\u001b[0m \u001b[0mpoly\u001b[0m\u001b[0;34m.\u001b[0m\u001b[0mfit_transform\u001b[0m\u001b[0;34m(\u001b[0m\u001b[0mX\u001b[0m\u001b[0;34m)\u001b[0m\u001b[0;34m\u001b[0m\u001b[0;34m\u001b[0m\u001b[0m\n\u001b[0m\u001b[1;32m      6\u001b[0m \u001b[0mmodel\u001b[0m \u001b[0;34m=\u001b[0m \u001b[0mLinearRegression\u001b[0m\u001b[0;34m(\u001b[0m\u001b[0;34m)\u001b[0m\u001b[0;34m.\u001b[0m\u001b[0mfit\u001b[0m\u001b[0;34m(\u001b[0m\u001b[0mX_poly\u001b[0m\u001b[0;34m,\u001b[0m \u001b[0my\u001b[0m\u001b[0;34m)\u001b[0m\u001b[0;34m\u001b[0m\u001b[0;34m\u001b[0m\u001b[0m\n",
            "\u001b[0;31mNameError\u001b[0m: name 'X' is not defined"
          ]
        }
      ],
      "source": [
        "from sklearn.preprocessing import PolynomialFeatures\n",
        "from sklearn.linear_model import LinearRegression\n",
        "\n",
        "poly = PolynomialFeatures(degree=2)\n",
        "X_poly = poly.fit_transform(X)\n",
        "model = LinearRegression().fit(X_poly, y)\n"
      ]
    },
    {
      "cell_type": "code",
      "source": [],
      "metadata": {
        "id": "apFCNCKWRpgz"
      },
      "id": "apFCNCKWRpgz",
      "execution_count": null,
      "outputs": []
    }
  ],
  "metadata": {
    "colab": {
      "provenance": [],
      "include_colab_link": true
    },
    "language_info": {
      "name": "python"
    },
    "kernelspec": {
      "name": "python3",
      "display_name": "Python 3"
    }
  },
  "nbformat": 4,
  "nbformat_minor": 5
}